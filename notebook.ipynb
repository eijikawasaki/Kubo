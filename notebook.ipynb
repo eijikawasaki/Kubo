{
 "cells": [
  {
   "cell_type": "markdown",
   "metadata": {},
   "source": [
    "# Statistical physics and Machine learning"
   ]
  },
  {
   "cell_type": "markdown",
   "metadata": {},
   "source": [
    "## References"
   ]
  },
  {
   "cell_type": "markdown",
   "metadata": {},
   "source": [
    "[Machine Learning Course - CS 156](https://www.youtube.com/playlist?list=PLD63A284B7615313A)"
   ]
  },
  {
   "cell_type": "markdown",
   "metadata": {},
   "source": [
    "## Machine Learning"
   ]
  },
  {
   "cell_type": "markdown",
   "metadata": {},
   "source": [
    "* Complexity\n",
    "    * VC dimension\n",
    "    * Bias Variance trade off\n",
    "* Rgression\n",
    "    * Linear classification\n",
    "    * Linear regression\n",
    "    * Logistic regression"
   ]
  },
  {
   "cell_type": "markdown",
   "metadata": {},
   "source": [
    "### Linear Regression"
   ]
  },
  {
   "cell_type": "markdown",
   "metadata": {},
   "source": [
    "$$\\hat{y}=w^Tx+b$$"
   ]
  },
  {
   "cell_type": "markdown",
   "metadata": {},
   "source": [
    "$$w=(x^Tx)^{-1}x^Ty$$"
   ]
  },
  {
   "cell_type": "markdown",
   "metadata": {},
   "source": [
    "## Statistical physics"
   ]
  },
  {
   "cell_type": "code",
   "execution_count": 1,
   "metadata": {},
   "outputs": [],
   "source": [
    "from src import *"
   ]
  },
  {
   "cell_type": "code",
   "execution_count": 2,
   "metadata": {},
   "outputs": [
    {
     "name": "stdout",
     "output_type": "stream",
     "text": [
      "hello word\n"
     ]
    }
   ],
   "source": [
    "hello_word()"
   ]
  },
  {
   "cell_type": "markdown",
   "metadata": {},
   "source": [
    "Langevin : $$\\frac{d}{dt}v(t) = - \\gamma v(t) + \\sqrt{\\frac{2\\gamma}{\\beta m}}f(t) + \\frac{1}{m}F(t)$$ $$\\langle f(t_1)f(t_2)\\rangle = \\delta(t_1 - t_2)$$ $f(t)$ white noise, external force $F(t)$ and $\\beta=\\left(k_BT\\right)^{-1}$"
   ]
  },
  {
   "cell_type": "markdown",
   "metadata": {},
   "source": [
    "External force response function $$\\langle v(t)\\rangle = \\int_{\\mathcal{R}} dt' \\chi (t-t') F(t')$$"
   ]
  },
  {
   "cell_type": "markdown",
   "metadata": {},
   "source": [
    "Flucutation Dissipation : $$\\tilde{\\chi}(\\omega) = \\int_{\\mathcal{R}} dt e^{i\\omega t} \\chi(t) = \\frac{1}{m}\\frac{1}{\\gamma - i\\omega}$$ $$\\text{Im}\\left(\\tilde{\\chi}(\\omega)\\right)=\\frac{\\beta\\omega}{2\\gamma}\\tilde{G}(\\omega)$$ where $$\\tilde{G}(\\omega) = \\int_{\\mathcal{R}} dt \\langle v(t)v(0)\\rangle = \\frac{2m}{\\beta m}\\frac{\\gamma}{\\gamma^2+\\omega^2}$$"
   ]
  },
  {
   "cell_type": "code",
   "execution_count": 3,
   "metadata": {},
   "outputs": [
    {
     "data": {
      "application/vnd.jupyter.widget-view+json": {
       "model_id": "37fe0c5ff6684a03bb6691686fcd09d8",
       "version_major": 2,
       "version_minor": 0
      },
      "text/plain": [
       "interactive(children=(FloatSlider(value=0.24, description='gamma', max=0.5, step=0.02), IntSlider(value=5000, …"
      ]
     },
     "metadata": {},
     "output_type": "display_data"
    }
   ],
   "source": [
    "%matplotlib inline\n",
    "from ipywidgets import interactive\n",
    "interactive(langevin, gamma=(0., .5, 0.02), steps=(1000,10000,1000), force=(0., 1.))"
   ]
  },
  {
   "cell_type": "code",
   "execution_count": null,
   "metadata": {},
   "outputs": [],
   "source": []
  },
  {
   "cell_type": "code",
   "execution_count": null,
   "metadata": {},
   "outputs": [],
   "source": []
  }
 ],
 "metadata": {
  "kernelspec": {
   "display_name": "Kubo",
   "language": "python",
   "name": "kubo"
  },
  "language_info": {
   "codemirror_mode": {
    "name": "ipython",
    "version": 3
   },
   "file_extension": ".py",
   "mimetype": "text/x-python",
   "name": "python",
   "nbconvert_exporter": "python",
   "pygments_lexer": "ipython3",
   "version": "3.5.2"
  }
 },
 "nbformat": 4,
 "nbformat_minor": 2
}
