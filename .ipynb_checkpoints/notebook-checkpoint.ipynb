{
 "cells": [
  {
   "cell_type": "markdown",
   "metadata": {},
   "source": [
    "# Title"
   ]
  },
  {
   "cell_type": "code",
   "execution_count": 1,
   "metadata": {},
   "outputs": [],
   "source": [
    "from src import *"
   ]
  },
  {
   "cell_type": "code",
   "execution_count": 2,
   "metadata": {},
   "outputs": [
    {
     "name": "stdout",
     "output_type": "stream",
     "text": [
      "hello word\n"
     ]
    }
   ],
   "source": [
    "hello_word()"
   ]
  },
  {
   "cell_type": "markdown",
   "metadata": {},
   "source": [
    "Langevin : $$\\frac{d}{dt}v(t) = - \\gamma v(t) + \\sqrt{\\frac{2\\gamma}{\\beta m}}f(t) + \\frac{1}{m}F(t)$$ $$\\langle f(t_1)f(t_2)\\rangle = \\delta(t_1 - t_2)$$ $f(t)$ white noise, external force $F(t)$ and $\\beta=\\left(k_BT\\right)^{-1}$"
   ]
  },
  {
   "cell_type": "markdown",
   "metadata": {},
   "source": [
    "External force response function $$\\langle v(t)\\rangle = \\int_{\\mathcal{R}} dt' \\chi (t-t') F(t')$$"
   ]
  },
  {
   "cell_type": "markdown",
   "metadata": {},
   "source": [
    "Flucutation Dissipation : $$\\tilde{\\chi}(\\omega) = \\int_{\\mathcal{R}} dt e^{i\\omega t} \\chi(t) = \\frac{1}{m}\\frac{1}{\\gamma - i\\omega}$$ $$\\text{Im}\\left(\\tilde{\\chi}(\\omega)\\right)=\\frac{\\beta\\omega}{2\\gamma}\\tilde{G}(\\omega)$$ where $$\\tilde{G}(\\omega)\\int_{\\mathcal{R}} dt \\langle v(t)v(0)\\rangle = \\frac{2m}{\\beta m}\\frac{\\gamma}{\\gamma^2+\\omega^2}$$"
   ]
  }
 ],
 "metadata": {
  "kernelspec": {
   "display_name": "Python 3",
   "language": "python",
   "name": "python3"
  },
  "language_info": {
   "codemirror_mode": {
    "name": "ipython",
    "version": 3
   },
   "file_extension": ".py",
   "mimetype": "text/x-python",
   "name": "python",
   "nbconvert_exporter": "python",
   "pygments_lexer": "ipython3",
   "version": "3.6.5"
  }
 },
 "nbformat": 4,
 "nbformat_minor": 2
}
